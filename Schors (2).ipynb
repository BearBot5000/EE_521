{
 "cells": [
  {
   "cell_type": "code",
   "execution_count": 1,
   "id": "b8905e77-1b2e-47d8-abf3-bd6a07312bbe",
   "metadata": {},
   "outputs": [
    {
     "name": "stdout",
     "output_type": "stream",
     "text": [
      "\n",
      "Uncorrected bit flip and phase error\n",
      "--------------------------------------\n",
      "{'1': 1000}\n"
     ]
    },
    {
     "name": "stderr",
     "output_type": "stream",
     "text": [
      "C:\\Users\\mizeb\\anaconda3\\Lib\\site-packages\\qiskit\\visualization\\circuit\\matplotlib.py:266: FutureWarning: The default matplotlib drawer scheme will be changed to \"iqp\" in a following release. To silence this warning, specify the current default explicitly as style=\"clifford\", or the new default as style=\"iqp\".\n",
      "  self._style, def_font_ratio = load_style(self._style)\n"
     ]
    },
    {
     "name": "stdin",
     "output_type": "stream",
     "text": [
      "Press Enter to exit... \n"
     ]
    },
    {
     "data": {
      "text/plain": [
       "''"
      ]
     },
     "execution_count": 1,
     "metadata": {},
     "output_type": "execute_result"
    }
   ],
   "source": [
    "from qiskit import QuantumRegister, ClassicalRegister, QuantumCircuit\n",
    "from qiskit_aer import Aer\n",
    "from qiskit import transpile\n",
    "from qiskit.visualization import plot_histogram\n",
    "import matplotlib.pyplot as plt\n",
    "\n",
    "# Create a Quantum Circuit\n",
    "q = QuantumRegister(1, 'q')\n",
    "c = ClassicalRegister(1, 'c')\n",
    "\n",
    "circuit = QuantumCircuit(q, c)\n",
    "\n",
    "# Apply Hadamard, X (bit-flip error), and Z (phase-flip error) gates\n",
    "circuit.h(q[0])\n",
    "circuit.x(q[0])  # Bit flip error\n",
    "circuit.z(q[0])  # Phase flip error\n",
    "circuit.h(q[0])\n",
    "\n",
    "# Add a barrier\n",
    "circuit.barrier(q)\n",
    "\n",
    "# Measurement\n",
    "circuit.measure(q[0], c[0])\n",
    "\n",
    "# Use Aer's qasm_simulator\n",
    "backend = Aer.get_backend('aer_simulator')\n",
    "\n",
    "# Transpile the circuit for the simulator\n",
    "transpiled_circuit = transpile(circuit, backend)\n",
    "\n",
    "# Execute the transpiled circuit\n",
    "job = backend.run(transpiled_circuit, shots=1000)\n",
    "\n",
    "# Grab the results from the job\n",
    "result = job.result()\n",
    "\n",
    "counts = result.get_counts(circuit)\n",
    "\n",
    "# Print the result\n",
    "print(\"\\nUncorrected bit flip and phase error\")\n",
    "print(\"--------------------------------------\")\n",
    "print(counts)\n",
    "\n",
    "# Save the circuit diagram\n",
    "circuit_diagram = circuit.draw(output='mpl')\n",
    "circuit_diagram.savefig('circuit_diagram.png')\n",
    "\n",
    "# Save the histogram\n",
    "histogram = plot_histogram(counts)\n",
    "histogram.savefig('histogram.png')\n",
    "\n",
    "# If you want to display the plots as well (if you have a GUI environment configured), you can do so like this:\n",
    "plt.show()\n",
    "\n",
    "# Wait for the user to press Enter to close the program\n",
    "input(\"Press Enter to exit...\")\n"
   ]
  },
  {
   "cell_type": "code",
   "execution_count": 22,
   "id": "84795aef-6ac5-469d-8edc-f350c27beb4e",
   "metadata": {},
   "outputs": [],
   "source": [
    "from qiskit import QuantumRegister, ClassicalRegister, QuantumCircuit\n",
    "from qiskit_ibm_provider import IBMProvider\n",
    "from qiskit.transpiler import PassManager\n",
    "from qiskit.transpiler.preset_passmanagers import generate_preset_pass_manager\n",
    "from qiskit.transpiler.passes import ALAPScheduleAnalysis, PadDynamicalDecoupling\n",
    "from qiskit.circuit.library.standard_gates import XGate\n",
    "from qiskit.tools.monitor import job_monitor"
   ]
  },
  {
   "cell_type": "code",
   "execution_count": 23,
   "id": "bec7b35d-5e1f-46a9-b306-ca580b247ae1",
   "metadata": {},
   "outputs": [
    {
     "name": "stdout",
     "output_type": "stream",
     "text": [
      "\n",
      "Shor Code\n",
      "--------------\n"
     ]
    },
    {
     "data": {
      "text/plain": [
       "<qiskit.circuit.instructionset.InstructionSet at 0x2a382fb5ab0>"
      ]
     },
     "execution_count": 23,
     "metadata": {},
     "output_type": "execute_result"
    }
   ],
   "source": [
    "print('\\nShor Code')\n",
    "print('--------------')\n",
    "\n",
    "provider = IBMProvider(token='f0113ac1d30d90b2868282a463ed45b4fb28ab8b9573c3a131484daf93d9e24f2f2708e1033cb1ea3cc39ba411d2cba84727feae6ce8725d27f6080ccbddac03') \n",
    "backend = provider.get_backend('ibmq_qasm_simulator')\n",
    "\n",
    "\n",
    "q = QuantumRegister(1,'q')\n",
    "c = ClassicalRegister(1,'c')\n",
    "circuit = QuantumCircuit(q,c)\n",
    "\n",
    "circuit.h(q[0])\n",
    "\n",
    "####error here############\n",
    "circuit.x(q[0])#Bit flip error\n",
    "circuit.z(q[0])#Phase flip error\n",
    "############################\n",
    "\n",
    "circuit.h(q[0])\n",
    "\n",
    "circuit.barrier()\n",
    "\n",
    "circuit.measure(q[0],c[0])\n",
    "\n",
    "\n"
   ]
  },
  {
   "cell_type": "code",
   "execution_count": 26,
   "id": "ad3556ca-4e96-4074-925d-a1c7b6ac006d",
   "metadata": {},
   "outputs": [
    {
     "ename": "AttributeError",
     "evalue": "'IBMBackend' object has no attribute 'units_used'",
     "output_type": "error",
     "traceback": [
      "\u001b[1;31m---------------------------------------------------------------------------\u001b[0m",
      "\u001b[1;31mAttributeError\u001b[0m                            Traceback (most recent call last)",
      "File \u001b[1;32m~\\anaconda3\\Lib\\site-packages\\qiskit_ibm_provider\\ibm_backend.py:250\u001b[0m, in \u001b[0;36mIBMBackend.__getattr__\u001b[1;34m(self, name)\u001b[0m\n\u001b[0;32m    249\u001b[0m \u001b[38;5;28;01mtry\u001b[39;00m:\n\u001b[1;32m--> 250\u001b[0m     \u001b[38;5;28;01mreturn\u001b[39;00m \u001b[38;5;28mself\u001b[39m\u001b[38;5;241m.\u001b[39m_configuration\u001b[38;5;241m.\u001b[39m\u001b[38;5;21m__getattribute__\u001b[39m(name)\n\u001b[0;32m    251\u001b[0m \u001b[38;5;28;01mexcept\u001b[39;00m \u001b[38;5;167;01mAttributeError\u001b[39;00m:\n",
      "\u001b[1;31mAttributeError\u001b[0m: 'QasmBackendConfiguration' object has no attribute 'units_used'",
      "\nDuring handling of the above exception, another exception occurred:\n",
      "\u001b[1;31mAttributeError\u001b[0m                            Traceback (most recent call last)",
      "Cell \u001b[1;32mIn[26], line 10\u001b[0m\n\u001b[0;32m      7\u001b[0m pm\u001b[38;5;241m.\u001b[39mappend([ALAPScheduleAnalysis(backend), PadDynamicalDecoupling(dd_sequence\u001b[38;5;241m=\u001b[39mdd_sequence)])\n\u001b[0;32m      9\u001b[0m \u001b[38;5;66;03m# Transpile the circuit using the custom PassManager\u001b[39;00m\n\u001b[1;32m---> 10\u001b[0m transpiled_circuit \u001b[38;5;241m=\u001b[39m pm\u001b[38;5;241m.\u001b[39mrun(circuit)\n\u001b[0;32m     12\u001b[0m \u001b[38;5;66;03m# Execute the transpiled circuit\u001b[39;00m\n\u001b[0;32m     13\u001b[0m job \u001b[38;5;241m=\u001b[39m backend\u001b[38;5;241m.\u001b[39mrun(transpiled_circuit, shots\u001b[38;5;241m=\u001b[39m\u001b[38;5;241m1000\u001b[39m)\n",
      "File \u001b[1;32m~\\anaconda3\\Lib\\site-packages\\qiskit\\transpiler\\passmanager.py:580\u001b[0m, in \u001b[0;36m_replace_error.<locals>.wrapper\u001b[1;34m(*meth_args, **meth_kwargs)\u001b[0m\n\u001b[0;32m    577\u001b[0m \u001b[38;5;129m@wraps\u001b[39m(meth)\n\u001b[0;32m    578\u001b[0m \u001b[38;5;28;01mdef\u001b[39;00m \u001b[38;5;21mwrapper\u001b[39m(\u001b[38;5;241m*\u001b[39mmeth_args, \u001b[38;5;241m*\u001b[39m\u001b[38;5;241m*\u001b[39mmeth_kwargs):\n\u001b[0;32m    579\u001b[0m     \u001b[38;5;28;01mtry\u001b[39;00m:\n\u001b[1;32m--> 580\u001b[0m         \u001b[38;5;28;01mreturn\u001b[39;00m meth(\u001b[38;5;241m*\u001b[39mmeth_args, \u001b[38;5;241m*\u001b[39m\u001b[38;5;241m*\u001b[39mmeth_kwargs)\n\u001b[0;32m    581\u001b[0m     \u001b[38;5;28;01mexcept\u001b[39;00m PassManagerError \u001b[38;5;28;01mas\u001b[39;00m ex:\n\u001b[0;32m    582\u001b[0m         \u001b[38;5;28;01mraise\u001b[39;00m TranspilerError(ex\u001b[38;5;241m.\u001b[39mmessage) \u001b[38;5;28;01mfrom\u001b[39;00m \u001b[38;5;21;01mex\u001b[39;00m\n",
      "File \u001b[1;32m~\\anaconda3\\Lib\\site-packages\\qiskit\\transpiler\\passmanager.py:308\u001b[0m, in \u001b[0;36mPassManager.run\u001b[1;34m(self, circuits, output_name, callback)\u001b[0m\n\u001b[0;32m    306\u001b[0m previous, \u001b[38;5;28mself\u001b[39m\u001b[38;5;241m.\u001b[39m__skip_running_pass_manager \u001b[38;5;241m=\u001b[39m \u001b[38;5;28mself\u001b[39m\u001b[38;5;241m.\u001b[39m__skip_running_pass_manager, \u001b[38;5;28;01mTrue\u001b[39;00m\n\u001b[0;32m    307\u001b[0m \u001b[38;5;28;01mtry\u001b[39;00m:\n\u001b[1;32m--> 308\u001b[0m     \u001b[38;5;28;01mreturn\u001b[39;00m \u001b[38;5;28msuper\u001b[39m()\u001b[38;5;241m.\u001b[39mrun(\n\u001b[0;32m    309\u001b[0m         in_programs\u001b[38;5;241m=\u001b[39mcircuits,\n\u001b[0;32m    310\u001b[0m         callback\u001b[38;5;241m=\u001b[39mcallback,\n\u001b[0;32m    311\u001b[0m         output_name\u001b[38;5;241m=\u001b[39moutput_name,\n\u001b[0;32m    312\u001b[0m     )\n\u001b[0;32m    313\u001b[0m \u001b[38;5;28;01mfinally\u001b[39;00m:\n\u001b[0;32m    314\u001b[0m     \u001b[38;5;28mself\u001b[39m\u001b[38;5;241m.\u001b[39m__skip_running_pass_manager \u001b[38;5;241m=\u001b[39m previous\n",
      "File \u001b[1;32m~\\anaconda3\\Lib\\site-packages\\qiskit\\passmanager\\passmanager.py:222\u001b[0m, in \u001b[0;36mBasePassManager.run\u001b[1;34m(self, in_programs, callback, **kwargs)\u001b[0m\n\u001b[0;32m    219\u001b[0m     is_list \u001b[38;5;241m=\u001b[39m \u001b[38;5;28;01mFalse\u001b[39;00m\n\u001b[0;32m    221\u001b[0m \u001b[38;5;28;01mif\u001b[39;00m \u001b[38;5;28mlen\u001b[39m(in_programs) \u001b[38;5;241m==\u001b[39m \u001b[38;5;241m1\u001b[39m:\n\u001b[1;32m--> 222\u001b[0m     out_program \u001b[38;5;241m=\u001b[39m _run_workflow(\n\u001b[0;32m    223\u001b[0m         program\u001b[38;5;241m=\u001b[39min_programs[\u001b[38;5;241m0\u001b[39m],\n\u001b[0;32m    224\u001b[0m         pass_manager\u001b[38;5;241m=\u001b[39m\u001b[38;5;28mself\u001b[39m,\n\u001b[0;32m    225\u001b[0m         callback\u001b[38;5;241m=\u001b[39mcallback,\n\u001b[0;32m    226\u001b[0m         \u001b[38;5;241m*\u001b[39m\u001b[38;5;241m*\u001b[39mkwargs,\n\u001b[0;32m    227\u001b[0m     )\n\u001b[0;32m    228\u001b[0m     \u001b[38;5;28;01mif\u001b[39;00m is_list:\n\u001b[0;32m    229\u001b[0m         \u001b[38;5;28;01mreturn\u001b[39;00m [out_program]\n",
      "File \u001b[1;32m~\\anaconda3\\Lib\\site-packages\\qiskit\\passmanager\\passmanager.py:284\u001b[0m, in \u001b[0;36m_run_workflow\u001b[1;34m(program, pass_manager, **kwargs)\u001b[0m\n\u001b[0;32m    278\u001b[0m initial_status \u001b[38;5;241m=\u001b[39m WorkflowStatus()\n\u001b[0;32m    280\u001b[0m passmanager_ir \u001b[38;5;241m=\u001b[39m pass_manager\u001b[38;5;241m.\u001b[39m_passmanager_frontend(\n\u001b[0;32m    281\u001b[0m     input_program\u001b[38;5;241m=\u001b[39mprogram,\n\u001b[0;32m    282\u001b[0m     \u001b[38;5;241m*\u001b[39m\u001b[38;5;241m*\u001b[39mkwargs,\n\u001b[0;32m    283\u001b[0m )\n\u001b[1;32m--> 284\u001b[0m passmanager_ir, _ \u001b[38;5;241m=\u001b[39m flow_controller\u001b[38;5;241m.\u001b[39mexecute(\n\u001b[0;32m    285\u001b[0m     passmanager_ir\u001b[38;5;241m=\u001b[39mpassmanager_ir,\n\u001b[0;32m    286\u001b[0m     state\u001b[38;5;241m=\u001b[39mPassManagerState(\n\u001b[0;32m    287\u001b[0m         workflow_status\u001b[38;5;241m=\u001b[39minitial_status,\n\u001b[0;32m    288\u001b[0m         property_set\u001b[38;5;241m=\u001b[39mpass_manager\u001b[38;5;241m.\u001b[39mproperty_set,\n\u001b[0;32m    289\u001b[0m     ),\n\u001b[0;32m    290\u001b[0m     callback\u001b[38;5;241m=\u001b[39mkwargs\u001b[38;5;241m.\u001b[39mget(\u001b[38;5;124m\"\u001b[39m\u001b[38;5;124mcallback\u001b[39m\u001b[38;5;124m\"\u001b[39m, \u001b[38;5;28;01mNone\u001b[39;00m),\n\u001b[0;32m    291\u001b[0m )\n\u001b[0;32m    292\u001b[0m out_program \u001b[38;5;241m=\u001b[39m pass_manager\u001b[38;5;241m.\u001b[39m_passmanager_backend(\n\u001b[0;32m    293\u001b[0m     passmanager_ir\u001b[38;5;241m=\u001b[39mpassmanager_ir,\n\u001b[0;32m    294\u001b[0m     in_program\u001b[38;5;241m=\u001b[39mprogram,\n\u001b[0;32m    295\u001b[0m     \u001b[38;5;241m*\u001b[39m\u001b[38;5;241m*\u001b[39mkwargs,\n\u001b[0;32m    296\u001b[0m )\n\u001b[0;32m    298\u001b[0m \u001b[38;5;28;01mreturn\u001b[39;00m out_program\n",
      "File \u001b[1;32m~\\anaconda3\\Lib\\site-packages\\qiskit\\passmanager\\base_tasks.py:218\u001b[0m, in \u001b[0;36mBaseController.execute\u001b[1;34m(self, passmanager_ir, state, callback)\u001b[0m\n\u001b[0;32m    216\u001b[0m     \u001b[38;5;28;01mreturn\u001b[39;00m passmanager_ir, state\n\u001b[0;32m    217\u001b[0m \u001b[38;5;28;01mwhile\u001b[39;00m \u001b[38;5;28;01mTrue\u001b[39;00m:\n\u001b[1;32m--> 218\u001b[0m     passmanager_ir, state \u001b[38;5;241m=\u001b[39m next_task\u001b[38;5;241m.\u001b[39mexecute(\n\u001b[0;32m    219\u001b[0m         passmanager_ir\u001b[38;5;241m=\u001b[39mpassmanager_ir,\n\u001b[0;32m    220\u001b[0m         state\u001b[38;5;241m=\u001b[39mstate,\n\u001b[0;32m    221\u001b[0m         callback\u001b[38;5;241m=\u001b[39mcallback,\n\u001b[0;32m    222\u001b[0m     )\n\u001b[0;32m    223\u001b[0m     \u001b[38;5;28;01mtry\u001b[39;00m:\n\u001b[0;32m    224\u001b[0m         \u001b[38;5;66;03m# Sending the object through the generator implies the custom controllers\u001b[39;00m\n\u001b[0;32m    225\u001b[0m         \u001b[38;5;66;03m# can always rely on the latest data to choose the next task to run.\u001b[39;00m\n\u001b[0;32m    226\u001b[0m         next_task \u001b[38;5;241m=\u001b[39m task_generator\u001b[38;5;241m.\u001b[39msend(state)\n",
      "File \u001b[1;32m~\\anaconda3\\Lib\\site-packages\\qiskit\\passmanager\\base_tasks.py:87\u001b[0m, in \u001b[0;36mGenericPass.execute\u001b[1;34m(self, passmanager_ir, state, callback)\u001b[0m\n\u001b[0;32m     83\u001b[0m \u001b[38;5;28;01mif\u001b[39;00m \u001b[38;5;28mself\u001b[39m\u001b[38;5;241m.\u001b[39mrequires:\n\u001b[0;32m     84\u001b[0m     \u001b[38;5;66;03m# pylint: disable=cyclic-import\u001b[39;00m\n\u001b[0;32m     85\u001b[0m     \u001b[38;5;28;01mfrom\u001b[39;00m \u001b[38;5;21;01m.\u001b[39;00m\u001b[38;5;21;01mflow_controllers\u001b[39;00m \u001b[38;5;28;01mimport\u001b[39;00m FlowControllerLinear\n\u001b[1;32m---> 87\u001b[0m     passmanager_ir, state \u001b[38;5;241m=\u001b[39m FlowControllerLinear(\u001b[38;5;28mself\u001b[39m\u001b[38;5;241m.\u001b[39mrequires)\u001b[38;5;241m.\u001b[39mexecute(\n\u001b[0;32m     88\u001b[0m         passmanager_ir\u001b[38;5;241m=\u001b[39mpassmanager_ir,\n\u001b[0;32m     89\u001b[0m         state\u001b[38;5;241m=\u001b[39mstate,\n\u001b[0;32m     90\u001b[0m         callback\u001b[38;5;241m=\u001b[39mcallback,\n\u001b[0;32m     91\u001b[0m     )\n\u001b[0;32m     93\u001b[0m run_state \u001b[38;5;241m=\u001b[39m \u001b[38;5;28;01mNone\u001b[39;00m\n\u001b[0;32m     94\u001b[0m ret \u001b[38;5;241m=\u001b[39m \u001b[38;5;28;01mNone\u001b[39;00m\n",
      "File \u001b[1;32m~\\anaconda3\\Lib\\site-packages\\qiskit\\passmanager\\base_tasks.py:218\u001b[0m, in \u001b[0;36mBaseController.execute\u001b[1;34m(self, passmanager_ir, state, callback)\u001b[0m\n\u001b[0;32m    216\u001b[0m     \u001b[38;5;28;01mreturn\u001b[39;00m passmanager_ir, state\n\u001b[0;32m    217\u001b[0m \u001b[38;5;28;01mwhile\u001b[39;00m \u001b[38;5;28;01mTrue\u001b[39;00m:\n\u001b[1;32m--> 218\u001b[0m     passmanager_ir, state \u001b[38;5;241m=\u001b[39m next_task\u001b[38;5;241m.\u001b[39mexecute(\n\u001b[0;32m    219\u001b[0m         passmanager_ir\u001b[38;5;241m=\u001b[39mpassmanager_ir,\n\u001b[0;32m    220\u001b[0m         state\u001b[38;5;241m=\u001b[39mstate,\n\u001b[0;32m    221\u001b[0m         callback\u001b[38;5;241m=\u001b[39mcallback,\n\u001b[0;32m    222\u001b[0m     )\n\u001b[0;32m    223\u001b[0m     \u001b[38;5;28;01mtry\u001b[39;00m:\n\u001b[0;32m    224\u001b[0m         \u001b[38;5;66;03m# Sending the object through the generator implies the custom controllers\u001b[39;00m\n\u001b[0;32m    225\u001b[0m         \u001b[38;5;66;03m# can always rely on the latest data to choose the next task to run.\u001b[39;00m\n\u001b[0;32m    226\u001b[0m         next_task \u001b[38;5;241m=\u001b[39m task_generator\u001b[38;5;241m.\u001b[39msend(state)\n",
      "File \u001b[1;32m~\\anaconda3\\Lib\\site-packages\\qiskit\\transpiler\\basepasses.py:195\u001b[0m, in \u001b[0;36mTransformationPass.execute\u001b[1;34m(self, passmanager_ir, state, callback)\u001b[0m\n\u001b[0;32m    189\u001b[0m \u001b[38;5;28;01mdef\u001b[39;00m \u001b[38;5;21mexecute\u001b[39m(\n\u001b[0;32m    190\u001b[0m     \u001b[38;5;28mself\u001b[39m,\n\u001b[0;32m    191\u001b[0m     passmanager_ir: PassManagerIR,\n\u001b[0;32m    192\u001b[0m     state: PassManagerState,\n\u001b[0;32m    193\u001b[0m     callback: Callable \u001b[38;5;241m=\u001b[39m \u001b[38;5;28;01mNone\u001b[39;00m,\n\u001b[0;32m    194\u001b[0m ) \u001b[38;5;241m-\u001b[39m\u001b[38;5;241m>\u001b[39m \u001b[38;5;28mtuple\u001b[39m[PassManagerIR, PassManagerState]:\n\u001b[1;32m--> 195\u001b[0m     new_dag, state \u001b[38;5;241m=\u001b[39m \u001b[38;5;28msuper\u001b[39m()\u001b[38;5;241m.\u001b[39mexecute(\n\u001b[0;32m    196\u001b[0m         passmanager_ir\u001b[38;5;241m=\u001b[39mpassmanager_ir,\n\u001b[0;32m    197\u001b[0m         state\u001b[38;5;241m=\u001b[39mstate,\n\u001b[0;32m    198\u001b[0m         callback\u001b[38;5;241m=\u001b[39mcallback,\n\u001b[0;32m    199\u001b[0m     )\n\u001b[0;32m    201\u001b[0m     \u001b[38;5;28;01mif\u001b[39;00m state\u001b[38;5;241m.\u001b[39mworkflow_status\u001b[38;5;241m.\u001b[39mprevious_run \u001b[38;5;241m==\u001b[39m RunState\u001b[38;5;241m.\u001b[39mSUCCESS:\n\u001b[0;32m    202\u001b[0m         \u001b[38;5;28;01mif\u001b[39;00m \u001b[38;5;28misinstance\u001b[39m(new_dag, DAGCircuit):\n\u001b[0;32m    203\u001b[0m             \u001b[38;5;66;03m# Copy calibration data from the original program\u001b[39;00m\n",
      "File \u001b[1;32m~\\anaconda3\\Lib\\site-packages\\qiskit\\passmanager\\base_tasks.py:98\u001b[0m, in \u001b[0;36mGenericPass.execute\u001b[1;34m(self, passmanager_ir, state, callback)\u001b[0m\n\u001b[0;32m     96\u001b[0m \u001b[38;5;28;01mtry\u001b[39;00m:\n\u001b[0;32m     97\u001b[0m     \u001b[38;5;28;01mif\u001b[39;00m \u001b[38;5;28mself\u001b[39m \u001b[38;5;129;01mnot\u001b[39;00m \u001b[38;5;129;01min\u001b[39;00m state\u001b[38;5;241m.\u001b[39mworkflow_status\u001b[38;5;241m.\u001b[39mcompleted_passes:\n\u001b[1;32m---> 98\u001b[0m         ret \u001b[38;5;241m=\u001b[39m \u001b[38;5;28mself\u001b[39m\u001b[38;5;241m.\u001b[39mrun(passmanager_ir)\n\u001b[0;32m     99\u001b[0m         run_state \u001b[38;5;241m=\u001b[39m RunState\u001b[38;5;241m.\u001b[39mSUCCESS\n\u001b[0;32m    100\u001b[0m     \u001b[38;5;28;01melse\u001b[39;00m:\n",
      "File \u001b[1;32m~\\anaconda3\\Lib\\site-packages\\qiskit\\transpiler\\passes\\scheduling\\time_unit_conversion.py:78\u001b[0m, in \u001b[0;36mTimeUnitConversion.run\u001b[1;34m(self, dag)\u001b[0m\n\u001b[0;32m     73\u001b[0m \u001b[38;5;28;01mif\u001b[39;00m \u001b[38;5;28mself\u001b[39m\u001b[38;5;241m.\u001b[39m_unified(units_delay) \u001b[38;5;241m==\u001b[39m \u001b[38;5;124m\"\u001b[39m\u001b[38;5;124mmixed\u001b[39m\u001b[38;5;124m\"\u001b[39m:\n\u001b[0;32m     74\u001b[0m     \u001b[38;5;28;01mraise\u001b[39;00m TranspilerError(\n\u001b[0;32m     75\u001b[0m         \u001b[38;5;124m\"\u001b[39m\u001b[38;5;124mFail to unify time units in delays. SI units \u001b[39m\u001b[38;5;124m\"\u001b[39m\n\u001b[0;32m     76\u001b[0m         \u001b[38;5;124m\"\u001b[39m\u001b[38;5;124mand dt unit must not be mixed when dt is not supplied.\u001b[39m\u001b[38;5;124m\"\u001b[39m\n\u001b[0;32m     77\u001b[0m     )\n\u001b[1;32m---> 78\u001b[0m units_other \u001b[38;5;241m=\u001b[39m \u001b[38;5;28mself\u001b[39m\u001b[38;5;241m.\u001b[39minst_durations\u001b[38;5;241m.\u001b[39munits_used()\n\u001b[0;32m     79\u001b[0m \u001b[38;5;28;01mif\u001b[39;00m \u001b[38;5;28mself\u001b[39m\u001b[38;5;241m.\u001b[39m_unified(units_other) \u001b[38;5;241m==\u001b[39m \u001b[38;5;124m\"\u001b[39m\u001b[38;5;124mmixed\u001b[39m\u001b[38;5;124m\"\u001b[39m:\n\u001b[0;32m     80\u001b[0m     \u001b[38;5;28;01mraise\u001b[39;00m TranspilerError(\n\u001b[0;32m     81\u001b[0m         \u001b[38;5;124m\"\u001b[39m\u001b[38;5;124mFail to unify time units in instruction_durations. SI units \u001b[39m\u001b[38;5;124m\"\u001b[39m\n\u001b[0;32m     82\u001b[0m         \u001b[38;5;124m\"\u001b[39m\u001b[38;5;124mand dt unit must not be mixed when dt is not supplied.\u001b[39m\u001b[38;5;124m\"\u001b[39m\n\u001b[0;32m     83\u001b[0m     )\n",
      "File \u001b[1;32m~\\anaconda3\\Lib\\site-packages\\qiskit_ibm_provider\\ibm_backend.py:252\u001b[0m, in \u001b[0;36mIBMBackend.__getattr__\u001b[1;34m(self, name)\u001b[0m\n\u001b[0;32m    250\u001b[0m     \u001b[38;5;28;01mreturn\u001b[39;00m \u001b[38;5;28mself\u001b[39m\u001b[38;5;241m.\u001b[39m_configuration\u001b[38;5;241m.\u001b[39m\u001b[38;5;21m__getattribute__\u001b[39m(name)\n\u001b[0;32m    251\u001b[0m \u001b[38;5;28;01mexcept\u001b[39;00m \u001b[38;5;167;01mAttributeError\u001b[39;00m:\n\u001b[1;32m--> 252\u001b[0m     \u001b[38;5;28;01mraise\u001b[39;00m \u001b[38;5;167;01mAttributeError\u001b[39;00m(\n\u001b[0;32m    253\u001b[0m         \u001b[38;5;124m\"\u001b[39m\u001b[38;5;124m'\u001b[39m\u001b[38;5;132;01m{}\u001b[39;00m\u001b[38;5;124m'\u001b[39m\u001b[38;5;124m object has no attribute \u001b[39m\u001b[38;5;124m'\u001b[39m\u001b[38;5;132;01m{}\u001b[39;00m\u001b[38;5;124m'\u001b[39m\u001b[38;5;124m\"\u001b[39m\u001b[38;5;241m.\u001b[39mformat(\n\u001b[0;32m    254\u001b[0m             \u001b[38;5;28mself\u001b[39m\u001b[38;5;241m.\u001b[39m\u001b[38;5;18m__class__\u001b[39m\u001b[38;5;241m.\u001b[39m\u001b[38;5;18m__name__\u001b[39m, name\n\u001b[0;32m    255\u001b[0m         )\n\u001b[0;32m    256\u001b[0m     )\n",
      "\u001b[1;31mAttributeError\u001b[0m: 'IBMBackend' object has no attribute 'units_used'"
     ]
    }
   ],
   "source": [
    "# Create a custom PassManager\n",
    "pm = PassManager()\n",
    "\n",
    "# Add custom optimization passes\n",
    "# Example: Dynamical Decoupling (this requires scheduling analysis beforehand)\n",
    "dd_sequence = [XGate(), XGate()]\n",
    "pm.append([ALAPScheduleAnalysis(backend), PadDynamicalDecoupling(dd_sequence=dd_sequence)])\n",
    "\n",
    "# Transpile the circuit using the custom PassManager\n",
    "transpiled_circuit = pm.run(circuit)\n",
    "\n",
    "# Execute the transpiled circuit\n",
    "job = backend.run(transpiled_circuit, shots=1000)\n",
    "job_monitor(job)\n",
    "\n",
    "# Fetch the execution result\n",
    "counts = job.result().get_counts(circuit)\n",
    "\n",
    "# Print the results\n",
    "print(\"\\nResults:\")\n",
    "print(counts)"
   ]
  },
  {
   "cell_type": "code",
   "execution_count": 28,
   "id": "ba0be394-52fd-4ecb-870c-c20e3271db2f",
   "metadata": {},
   "outputs": [
    {
     "name": "stderr",
     "output_type": "stream",
     "text": [
      "C:\\Users\\mizeb\\anaconda3\\Lib\\site-packages\\qiskit\\visualization\\circuit\\matplotlib.py:266: FutureWarning: The default matplotlib drawer scheme will be changed to \"iqp\" in a following release. To silence this warning, specify the current default explicitly as style=\"clifford\", or the new default as style=\"iqp\".\n",
      "  self._style, def_font_ratio = load_style(self._style)\n",
      "C:\\Users\\mizeb\\AppData\\Local\\Temp\\ipykernel_22460\\2369275085.py:56: DeprecationWarning: The function ``qiskit.execute_function.execute()`` is deprecated as of qiskit 0.46.0. It will be removed in the Qiskit 1.0 release. This function combines ``transpile`` and ``backend.run``, which is covered by ``Sampler`` :mod:`~qiskit.primitives`. Alternatively, you can also run :func:`.transpile` followed by ``backend.run()``.\n",
      "  job = execute(circuit, backend, shots=1000)\n"
     ]
    },
    {
     "ename": "TranspilerError",
     "evalue": "'Invalid plugin name ibm_dynamic_circuits for stage translation'",
     "output_type": "error",
     "traceback": [
      "\u001b[1;31m---------------------------------------------------------------------------\u001b[0m",
      "\u001b[1;31mTranspilerError\u001b[0m                           Traceback (most recent call last)",
      "Cell \u001b[1;32mIn[28], line 56\u001b[0m\n\u001b[0;32m     52\u001b[0m circuit\u001b[38;5;241m.\u001b[39mmeasure(q[\u001b[38;5;241m0\u001b[39m],c[\u001b[38;5;241m0\u001b[39m])\n\u001b[0;32m     54\u001b[0m circuit\u001b[38;5;241m.\u001b[39mdraw(output\u001b[38;5;241m=\u001b[39m\u001b[38;5;124m'\u001b[39m\u001b[38;5;124mmpl\u001b[39m\u001b[38;5;124m'\u001b[39m,filename\u001b[38;5;241m=\u001b[39m\u001b[38;5;124m'\u001b[39m\u001b[38;5;124mshorcode.png\u001b[39m\u001b[38;5;124m'\u001b[39m) \u001b[38;5;66;03m#Draws an image of the circuit\u001b[39;00m\n\u001b[1;32m---> 56\u001b[0m job \u001b[38;5;241m=\u001b[39m execute(circuit, backend, shots\u001b[38;5;241m=\u001b[39m\u001b[38;5;241m1000\u001b[39m)\n\u001b[0;32m     58\u001b[0m job_monitor(job)\n\u001b[0;32m     60\u001b[0m counts \u001b[38;5;241m=\u001b[39m job\u001b[38;5;241m.\u001b[39mresult()\u001b[38;5;241m.\u001b[39mget_counts()\n",
      "File \u001b[1;32m~\\anaconda3\\Lib\\site-packages\\qiskit\\utils\\deprecation.py:96\u001b[0m, in \u001b[0;36mdeprecate_func.<locals>.decorator.<locals>.wrapper\u001b[1;34m(*args, **kwargs)\u001b[0m\n\u001b[0;32m     93\u001b[0m \u001b[38;5;129m@functools\u001b[39m\u001b[38;5;241m.\u001b[39mwraps(func)\n\u001b[0;32m     94\u001b[0m \u001b[38;5;28;01mdef\u001b[39;00m \u001b[38;5;21mwrapper\u001b[39m(\u001b[38;5;241m*\u001b[39margs, \u001b[38;5;241m*\u001b[39m\u001b[38;5;241m*\u001b[39mkwargs):\n\u001b[0;32m     95\u001b[0m     warnings\u001b[38;5;241m.\u001b[39mwarn(msg, category\u001b[38;5;241m=\u001b[39mcategory, stacklevel\u001b[38;5;241m=\u001b[39m\u001b[38;5;241m2\u001b[39m)\n\u001b[1;32m---> 96\u001b[0m     \u001b[38;5;28;01mreturn\u001b[39;00m func(\u001b[38;5;241m*\u001b[39margs, \u001b[38;5;241m*\u001b[39m\u001b[38;5;241m*\u001b[39mkwargs)\n",
      "File \u001b[1;32m~\\anaconda3\\Lib\\site-packages\\qiskit\\execute_function.py:294\u001b[0m, in \u001b[0;36mexecute\u001b[1;34m(experiments, backend, basis_gates, coupling_map, backend_properties, initial_layout, seed_transpiler, optimization_level, pass_manager, shots, memory, seed_simulator, default_qubit_los, default_meas_los, qubit_lo_range, meas_lo_range, schedule_los, meas_level, meas_return, memory_slots, memory_slot_size, rep_time, rep_delay, parameter_binds, schedule_circuit, inst_map, meas_map, scheduling_method, init_qubits, **run_config)\u001b[0m\n\u001b[0;32m    291\u001b[0m     experiments \u001b[38;5;241m=\u001b[39m pass_manager\u001b[38;5;241m.\u001b[39mrun(experiments)\n\u001b[0;32m    292\u001b[0m \u001b[38;5;28;01melse\u001b[39;00m:\n\u001b[0;32m    293\u001b[0m     \u001b[38;5;66;03m# transpiling the circuits using given transpile options\u001b[39;00m\n\u001b[1;32m--> 294\u001b[0m     experiments \u001b[38;5;241m=\u001b[39m transpile(\n\u001b[0;32m    295\u001b[0m         experiments,\n\u001b[0;32m    296\u001b[0m         basis_gates\u001b[38;5;241m=\u001b[39mbasis_gates,\n\u001b[0;32m    297\u001b[0m         coupling_map\u001b[38;5;241m=\u001b[39mcoupling_map,\n\u001b[0;32m    298\u001b[0m         backend_properties\u001b[38;5;241m=\u001b[39mbackend_properties,\n\u001b[0;32m    299\u001b[0m         initial_layout\u001b[38;5;241m=\u001b[39minitial_layout,\n\u001b[0;32m    300\u001b[0m         seed_transpiler\u001b[38;5;241m=\u001b[39mseed_transpiler,\n\u001b[0;32m    301\u001b[0m         optimization_level\u001b[38;5;241m=\u001b[39moptimization_level,\n\u001b[0;32m    302\u001b[0m         backend\u001b[38;5;241m=\u001b[39mbackend,\n\u001b[0;32m    303\u001b[0m     )\n\u001b[0;32m    305\u001b[0m \u001b[38;5;28;01mif\u001b[39;00m schedule_circuit:\n\u001b[0;32m    306\u001b[0m     experiments \u001b[38;5;241m=\u001b[39m schedule(\n\u001b[0;32m    307\u001b[0m         circuits\u001b[38;5;241m=\u001b[39mexperiments,\n\u001b[0;32m    308\u001b[0m         backend\u001b[38;5;241m=\u001b[39mbackend,\n\u001b[1;32m   (...)\u001b[0m\n\u001b[0;32m    311\u001b[0m         method\u001b[38;5;241m=\u001b[39mscheduling_method,\n\u001b[0;32m    312\u001b[0m     )\n",
      "File \u001b[1;32m~\\anaconda3\\Lib\\site-packages\\qiskit\\compiler\\transpiler.py:404\u001b[0m, in \u001b[0;36mtranspile\u001b[1;34m(circuits, backend, basis_gates, inst_map, coupling_map, backend_properties, initial_layout, layout_method, routing_method, translation_method, scheduling_method, instruction_durations, dt, approximation_degree, timing_constraints, seed_transpiler, optimization_level, callback, output_name, unitary_synthesis_method, unitary_synthesis_plugin_config, target, hls_config, init_method, optimization_method, ignore_backend_supplied_default_methods)\u001b[0m\n\u001b[0;32m    399\u001b[0m     \u001b[38;5;28;01melse\u001b[39;00m:\n\u001b[0;32m    400\u001b[0m         instruction_durations \u001b[38;5;241m=\u001b[39m _parse_instruction_durations(\n\u001b[0;32m    401\u001b[0m             backend, instruction_durations, dt, circuits[\u001b[38;5;241m0\u001b[39m]\n\u001b[0;32m    402\u001b[0m         )\n\u001b[1;32m--> 404\u001b[0m pm \u001b[38;5;241m=\u001b[39m generate_preset_pass_manager(\n\u001b[0;32m    405\u001b[0m     optimization_level,\n\u001b[0;32m    406\u001b[0m     backend\u001b[38;5;241m=\u001b[39mbackend,\n\u001b[0;32m    407\u001b[0m     target\u001b[38;5;241m=\u001b[39mtarget,\n\u001b[0;32m    408\u001b[0m     basis_gates\u001b[38;5;241m=\u001b[39mbasis_gates,\n\u001b[0;32m    409\u001b[0m     inst_map\u001b[38;5;241m=\u001b[39minst_map,\n\u001b[0;32m    410\u001b[0m     coupling_map\u001b[38;5;241m=\u001b[39mcoupling_map,\n\u001b[0;32m    411\u001b[0m     instruction_durations\u001b[38;5;241m=\u001b[39minstruction_durations,\n\u001b[0;32m    412\u001b[0m     backend_properties\u001b[38;5;241m=\u001b[39mbackend_properties,\n\u001b[0;32m    413\u001b[0m     timing_constraints\u001b[38;5;241m=\u001b[39mtiming_constraints,\n\u001b[0;32m    414\u001b[0m     initial_layout\u001b[38;5;241m=\u001b[39minitial_layout,\n\u001b[0;32m    415\u001b[0m     layout_method\u001b[38;5;241m=\u001b[39mlayout_method,\n\u001b[0;32m    416\u001b[0m     routing_method\u001b[38;5;241m=\u001b[39mrouting_method,\n\u001b[0;32m    417\u001b[0m     translation_method\u001b[38;5;241m=\u001b[39mtranslation_method,\n\u001b[0;32m    418\u001b[0m     scheduling_method\u001b[38;5;241m=\u001b[39mscheduling_method,\n\u001b[0;32m    419\u001b[0m     approximation_degree\u001b[38;5;241m=\u001b[39mapproximation_degree,\n\u001b[0;32m    420\u001b[0m     seed_transpiler\u001b[38;5;241m=\u001b[39mseed_transpiler,\n\u001b[0;32m    421\u001b[0m     unitary_synthesis_method\u001b[38;5;241m=\u001b[39munitary_synthesis_method,\n\u001b[0;32m    422\u001b[0m     unitary_synthesis_plugin_config\u001b[38;5;241m=\u001b[39munitary_synthesis_plugin_config,\n\u001b[0;32m    423\u001b[0m     hls_config\u001b[38;5;241m=\u001b[39mhls_config,\n\u001b[0;32m    424\u001b[0m     init_method\u001b[38;5;241m=\u001b[39minit_method,\n\u001b[0;32m    425\u001b[0m     optimization_method\u001b[38;5;241m=\u001b[39moptimization_method,\n\u001b[0;32m    426\u001b[0m     _skip_target\u001b[38;5;241m=\u001b[39m_skip_target,\n\u001b[0;32m    427\u001b[0m )\n\u001b[0;32m    428\u001b[0m out_circuits \u001b[38;5;241m=\u001b[39m pm\u001b[38;5;241m.\u001b[39mrun(circuits, callback\u001b[38;5;241m=\u001b[39mcallback)\n\u001b[0;32m    429\u001b[0m \u001b[38;5;28;01mfor\u001b[39;00m name, circ \u001b[38;5;129;01min\u001b[39;00m \u001b[38;5;28mzip\u001b[39m(output_name, out_circuits):\n",
      "File \u001b[1;32m~\\anaconda3\\Lib\\site-packages\\qiskit\\transpiler\\preset_passmanagers\\__init__.py:260\u001b[0m, in \u001b[0;36mgenerate_preset_pass_manager\u001b[1;34m(optimization_level, backend, target, basis_gates, inst_map, coupling_map, instruction_durations, backend_properties, timing_constraints, initial_layout, layout_method, routing_method, translation_method, scheduling_method, approximation_degree, seed_transpiler, unitary_synthesis_method, unitary_synthesis_plugin_config, hls_config, init_method, optimization_method, _skip_target)\u001b[0m\n\u001b[0;32m    258\u001b[0m     pm \u001b[38;5;241m=\u001b[39m level_0_pass_manager(pm_config)\n\u001b[0;32m    259\u001b[0m \u001b[38;5;28;01melif\u001b[39;00m optimization_level \u001b[38;5;241m==\u001b[39m \u001b[38;5;241m1\u001b[39m:\n\u001b[1;32m--> 260\u001b[0m     pm \u001b[38;5;241m=\u001b[39m level_1_pass_manager(pm_config)\n\u001b[0;32m    261\u001b[0m \u001b[38;5;28;01melif\u001b[39;00m optimization_level \u001b[38;5;241m==\u001b[39m \u001b[38;5;241m2\u001b[39m:\n\u001b[0;32m    262\u001b[0m     pm \u001b[38;5;241m=\u001b[39m level_2_pass_manager(pm_config)\n",
      "File \u001b[1;32m~\\anaconda3\\Lib\\site-packages\\qiskit\\transpiler\\preset_passmanagers\\level1.py:77\u001b[0m, in \u001b[0;36mlevel_1_pass_manager\u001b[1;34m(pass_manager_config)\u001b[0m\n\u001b[0;32m     74\u001b[0m     layout \u001b[38;5;241m=\u001b[39m \u001b[38;5;28;01mNone\u001b[39;00m\n\u001b[0;32m     75\u001b[0m     routing \u001b[38;5;241m=\u001b[39m \u001b[38;5;28;01mNone\u001b[39;00m\n\u001b[1;32m---> 77\u001b[0m translation \u001b[38;5;241m=\u001b[39m plugin_manager\u001b[38;5;241m.\u001b[39mget_passmanager_stage(\n\u001b[0;32m     78\u001b[0m     \u001b[38;5;124m\"\u001b[39m\u001b[38;5;124mtranslation\u001b[39m\u001b[38;5;124m\"\u001b[39m, translation_method, pass_manager_config, optimization_level\u001b[38;5;241m=\u001b[39m\u001b[38;5;241m1\u001b[39m\n\u001b[0;32m     79\u001b[0m )\n\u001b[0;32m     81\u001b[0m \u001b[38;5;28;01mif\u001b[39;00m (coupling_map \u001b[38;5;129;01mand\u001b[39;00m \u001b[38;5;129;01mnot\u001b[39;00m coupling_map\u001b[38;5;241m.\u001b[39mis_symmetric) \u001b[38;5;129;01mor\u001b[39;00m (\n\u001b[0;32m     82\u001b[0m     target \u001b[38;5;129;01mis\u001b[39;00m \u001b[38;5;129;01mnot\u001b[39;00m \u001b[38;5;28;01mNone\u001b[39;00m \u001b[38;5;129;01mand\u001b[39;00m target\u001b[38;5;241m.\u001b[39mget_non_global_operation_names(strict_direction\u001b[38;5;241m=\u001b[39m\u001b[38;5;28;01mTrue\u001b[39;00m)\n\u001b[0;32m     83\u001b[0m ):\n\u001b[0;32m     84\u001b[0m     pre_optimization \u001b[38;5;241m=\u001b[39m common\u001b[38;5;241m.\u001b[39mgenerate_pre_op_passmanager(\n\u001b[0;32m     85\u001b[0m         target, coupling_map, remove_reset_in_zero\u001b[38;5;241m=\u001b[39m\u001b[38;5;28;01mFalse\u001b[39;00m\n\u001b[0;32m     86\u001b[0m     )\n",
      "File \u001b[1;32m~\\anaconda3\\Lib\\site-packages\\qiskit\\transpiler\\preset_passmanagers\\plugin.py:251\u001b[0m, in \u001b[0;36mPassManagerStagePluginManager.get_passmanager_stage\u001b[1;34m(self, stage_name, plugin_name, pm_config, optimization_level)\u001b[0m\n\u001b[0;32m    247\u001b[0m     \u001b[38;5;28;01mreturn\u001b[39;00m \u001b[38;5;28mself\u001b[39m\u001b[38;5;241m.\u001b[39m_build_pm(\n\u001b[0;32m    248\u001b[0m         \u001b[38;5;28mself\u001b[39m\u001b[38;5;241m.\u001b[39mrouting_plugins, stage_name, plugin_name, pm_config, optimization_level\n\u001b[0;32m    249\u001b[0m     )\n\u001b[0;32m    250\u001b[0m \u001b[38;5;28;01melif\u001b[39;00m stage_name \u001b[38;5;241m==\u001b[39m \u001b[38;5;124m\"\u001b[39m\u001b[38;5;124mtranslation\u001b[39m\u001b[38;5;124m\"\u001b[39m:\n\u001b[1;32m--> 251\u001b[0m     \u001b[38;5;28;01mreturn\u001b[39;00m \u001b[38;5;28mself\u001b[39m\u001b[38;5;241m.\u001b[39m_build_pm(\n\u001b[0;32m    252\u001b[0m         \u001b[38;5;28mself\u001b[39m\u001b[38;5;241m.\u001b[39mtranslation_plugins, stage_name, plugin_name, pm_config, optimization_level\n\u001b[0;32m    253\u001b[0m     )\n\u001b[0;32m    254\u001b[0m \u001b[38;5;28;01melif\u001b[39;00m stage_name \u001b[38;5;241m==\u001b[39m \u001b[38;5;124m\"\u001b[39m\u001b[38;5;124moptimization\u001b[39m\u001b[38;5;124m\"\u001b[39m:\n\u001b[0;32m    255\u001b[0m     \u001b[38;5;28;01mreturn\u001b[39;00m \u001b[38;5;28mself\u001b[39m\u001b[38;5;241m.\u001b[39m_build_pm(\n\u001b[0;32m    256\u001b[0m         \u001b[38;5;28mself\u001b[39m\u001b[38;5;241m.\u001b[39moptimization_plugins, stage_name, plugin_name, pm_config, optimization_level\n\u001b[0;32m    257\u001b[0m     )\n",
      "File \u001b[1;32m~\\anaconda3\\Lib\\site-packages\\qiskit\\transpiler\\preset_passmanagers\\plugin.py:274\u001b[0m, in \u001b[0;36mPassManagerStagePluginManager._build_pm\u001b[1;34m(self, stage_obj, stage_name, plugin_name, pm_config, optimization_level)\u001b[0m\n\u001b[0;32m    265\u001b[0m \u001b[38;5;28;01mdef\u001b[39;00m \u001b[38;5;21m_build_pm\u001b[39m(\n\u001b[0;32m    266\u001b[0m     \u001b[38;5;28mself\u001b[39m,\n\u001b[0;32m    267\u001b[0m     stage_obj: stevedore\u001b[38;5;241m.\u001b[39mExtensionManager,\n\u001b[1;32m   (...)\u001b[0m\n\u001b[0;32m    271\u001b[0m     optimization_level: Optional[\u001b[38;5;28mint\u001b[39m] \u001b[38;5;241m=\u001b[39m \u001b[38;5;28;01mNone\u001b[39;00m,\n\u001b[0;32m    272\u001b[0m ):\n\u001b[0;32m    273\u001b[0m     \u001b[38;5;28;01mif\u001b[39;00m plugin_name \u001b[38;5;129;01mnot\u001b[39;00m \u001b[38;5;129;01min\u001b[39;00m stage_obj:\n\u001b[1;32m--> 274\u001b[0m         \u001b[38;5;28;01mraise\u001b[39;00m TranspilerError(\u001b[38;5;124mf\u001b[39m\u001b[38;5;124m\"\u001b[39m\u001b[38;5;124mInvalid plugin name \u001b[39m\u001b[38;5;132;01m{\u001b[39;00mplugin_name\u001b[38;5;132;01m}\u001b[39;00m\u001b[38;5;124m for stage \u001b[39m\u001b[38;5;132;01m{\u001b[39;00mstage_name\u001b[38;5;132;01m}\u001b[39;00m\u001b[38;5;124m\"\u001b[39m)\n\u001b[0;32m    275\u001b[0m     plugin_obj \u001b[38;5;241m=\u001b[39m stage_obj[plugin_name]\n\u001b[0;32m    276\u001b[0m     \u001b[38;5;28;01mreturn\u001b[39;00m plugin_obj\u001b[38;5;241m.\u001b[39mobj\u001b[38;5;241m.\u001b[39mpass_manager(pm_config, optimization_level)\n",
      "\u001b[1;31mTranspilerError\u001b[0m: 'Invalid plugin name ibm_dynamic_circuits for stage translation'"
     ]
    }
   ],
   "source": [
    "\n",
    "#####Shor code starts here ########\n",
    "q = QuantumRegister(9,'q')\n",
    "c = ClassicalRegister(1,'c')\n",
    "\n",
    "circuit = QuantumCircuit(q,c)\n",
    "\n",
    "circuit.cx(q[0],q[3])\n",
    "circuit.cx(q[0],q[6])\n",
    "\n",
    "circuit.h(q[0])\n",
    "circuit.h(q[3])\n",
    "circuit.h(q[6])\n",
    "\n",
    "circuit.cx(q[0],q[1])\n",
    "circuit.cx(q[3],q[4])\n",
    "circuit.cx(q[6],q[7])\n",
    "\n",
    "circuit.cx(q[0],q[2])\n",
    "circuit.cx(q[3],q[5])\n",
    "circuit.cx(q[6],q[8])\n",
    "\n",
    "circuit.barrier(q)\n",
    "\n",
    "####error here############\n",
    "circuit.x(q[0])#Bit flip error\n",
    "circuit.z(q[0])#Phase flip error\n",
    "############################\n",
    "\n",
    "circuit.barrier(q)\n",
    "circuit.cx(q[0],q[1])\n",
    "circuit.cx(q[3],q[4])\n",
    "circuit.cx(q[6],q[7])\n",
    "\n",
    "circuit.cx(q[0],q[2])\n",
    "circuit.cx(q[3],q[5])\n",
    "circuit.cx(q[6],q[8])\n",
    "\n",
    "circuit.ccx(q[1],q[2],q[0])\n",
    "circuit.ccx(q[4],q[5],q[3])\n",
    "circuit.ccx(q[8],q[7],q[6])\n",
    "\n",
    "circuit.h(q[0])\n",
    "circuit.h(q[3])\n",
    "circuit.h(q[6])\n",
    "\n",
    "circuit.cx(q[0],q[3])\n",
    "circuit.cx(q[0],q[6])\n",
    "circuit.ccx(q[6],q[3],q[0])\n",
    "\n",
    "circuit.barrier(q)\n",
    "\n",
    "circuit.measure(q[0],c[0])\n",
    "\n",
    "circuit.draw(output='mpl',filename='shorcode.png') #Draws an image of the circuit\n",
    "\n",
    "job = execute(circuit, backend, shots=1000)\n",
    "\n",
    "job_monitor(job)\n",
    "\n",
    "counts = job.result().get_counts()\n",
    "\n",
    "print(\"\\nShor code with bit flip and phase error\")\n",
    "print(\"----------------------------------------\")\n",
    "print(counts)\n",
    "input()"
   ]
  },
  {
   "cell_type": "code",
   "execution_count": null,
   "id": "7e77679a-b1f6-4691-b05f-dffa6a0d6a0e",
   "metadata": {},
   "outputs": [],
   "source": []
  }
 ],
 "metadata": {
  "kernelspec": {
   "display_name": "Python 3 (ipykernel)",
   "language": "python",
   "name": "python3"
  },
  "language_info": {
   "codemirror_mode": {
    "name": "ipython",
    "version": 3
   },
   "file_extension": ".py",
   "mimetype": "text/x-python",
   "name": "python",
   "nbconvert_exporter": "python",
   "pygments_lexer": "ipython3",
   "version": "3.11.5"
  }
 },
 "nbformat": 4,
 "nbformat_minor": 5
}
